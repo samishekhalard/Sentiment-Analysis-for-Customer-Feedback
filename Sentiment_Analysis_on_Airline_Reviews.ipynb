{
  "nbformat": 4,
  "nbformat_minor": 0,
  "metadata": {
    "colab": {
      "provenance": []
    },
    "kernelspec": {
      "name": "python3",
      "display_name": "Python 3"
    },
    "language_info": {
      "name": "python"
    }
  },
  "cells": [
    {
      "cell_type": "code",
      "execution_count": null,
      "metadata": {
        "id": "4DaF5VcFKra9"
      },
      "outputs": [],
      "source": [
        "import os\n",
        "for dirname, _, filenames in os.walk('Airline/input'):\n",
        "    for filename in filenames:\n",
        "        print(os.path.join(dirname, filename))"
      ]
    },
    {
      "cell_type": "code",
      "source": [
        "import pandas as pd\n",
        "import nltk\n",
        "from nltk.sentiment.vader import SentimentIntensityAnalyzer\n",
        "\n",
        "# Loading the airline reviews dataset\n",
        "df = pd.read_csv('/content/Airline_Reviews.csv')\n",
        "\n",
        "# Initializing the VADER sentiment analyzer\n",
        "nltk.download('vader_lexicon')  # Download the VADER lexicon\n",
        "sia = SentimentIntensityAnalyzer()\n",
        "\n",
        "# Initializing lists to store sentiment labels and scores\n",
        "sentiment_labels = []\n",
        "sentiment_scores = []\n",
        "\n",
        "# Processing each review and perform sentiment analysis\n",
        "for i in range(len(df)):  # Use range (0, 50)\n",
        "    review = df['Review'][i]\n",
        "    sentiment_score = sia.polarity_scores(review)['compound']\n",
        "\n",
        "    # Determining sentiment label based on sentiment score\n",
        "    if sentiment_score > 0.05:\n",
        "        sentiment_labels.append('Positive')\n",
        "    elif sentiment_score < -0.05:\n",
        "        sentiment_labels.append('Negative')\n",
        "    else:\n",
        "        sentiment_labels.append('Neutral')\n",
        "\n",
        "    sentiment_scores.append(sentiment_score)\n",
        "\n",
        "# Creating a new DataFrame with the sentiment analysis results\n",
        "sentiment_df = pd.DataFrame({\n",
        "    'Review': df['Review'],\n",
        "    'Sentiment_Label': sentiment_labels,\n",
        "    'Sentiment_Score': sentiment_scores\n",
        "})\n",
        "\n",
        "# Printing the sentiment analysis results for the first 10 reviews\n",
        "print(\"Sentiment Analysis Results:\")\n",
        "print(sentiment_df[['Review', 'Sentiment_Label', 'Sentiment_Score']].head(10))"
      ],
      "metadata": {
        "colab": {
          "base_uri": "https://localhost:8080/"
        },
        "id": "cgxlnlrGLLsA",
        "outputId": "b45084e3-04f2-40d4-e78d-e771abfd97b4"
      },
      "execution_count": null,
      "outputs": [
        {
          "output_type": "stream",
          "name": "stderr",
          "text": [
            "[nltk_data] Downloading package vader_lexicon to /root/nltk_data...\n"
          ]
        },
        {
          "output_type": "stream",
          "name": "stdout",
          "text": [
            "Sentiment Analysis Results:\n",
            "                                              Review Sentiment_Label  \\\n",
            "0    Moroni to Moheli. Turned out to be a pretty ...        Positive   \n",
            "1   Moroni to Anjouan. It is a very small airline...        Negative   \n",
            "2    Anjouan to Dzaoudzi. A very small airline an...        Positive   \n",
            "3    Please do a favor yourself and do not fly wi...        Negative   \n",
            "4   Do not book a flight with this airline! My fr...        Negative   \n",
            "5    Had very bad experience with rerouted and ca...        Negative   \n",
            "6    Ljubljana to Zürich. Firstly, Ljubljana airp...        Negative   \n",
            "7    First of all, I am not complaining about a s...        Negative   \n",
            "8    Worst Airline ever! They combined two flight...        Negative   \n",
            "9   Ljubljana to Munich. The homebase airport of ...        Positive   \n",
            "\n",
            "   Sentiment_Score  \n",
            "0           0.9192  \n",
            "1          -0.9242  \n",
            "2           0.7569  \n",
            "3          -0.9600  \n",
            "4          -0.1416  \n",
            "5          -0.6106  \n",
            "6          -0.9617  \n",
            "7          -0.8216  \n",
            "8          -0.2942  \n",
            "9           0.8514  \n"
          ]
        }
      ]
    }
  ]
}